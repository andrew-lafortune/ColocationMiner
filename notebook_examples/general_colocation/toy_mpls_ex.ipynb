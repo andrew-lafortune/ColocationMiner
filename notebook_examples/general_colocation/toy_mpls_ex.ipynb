{
 "cells": [
  {
   "cell_type": "code",
   "execution_count": 1,
   "metadata": {},
   "outputs": [],
   "source": [
    "import os\n",
    "import sys\n",
    "module_path = os.path.abspath(os.path.join('/home/andrew/SpatialDS/new_colocation/colocation'))\n",
    "if module_path not in sys.path:\n",
    "    sys.path.append(module_path)"
   ]
  },
  {
   "cell_type": "code",
   "execution_count": 2,
   "metadata": {},
   "outputs": [
    {
     "name": "stderr",
     "output_type": "stream",
     "text": [
      "/home/andrew/anaconda3/envs/colocationv2/lib/python3.7/site-packages/geopandas/_compat.py:115: UserWarning: The Shapely GEOS version (3.10.2-CAPI-1.16.0) is incompatible with the GEOS version PyGEOS was compiled with (3.10.1-CAPI-1.16.0). Conversions between both will be slow.\n",
      "  shapely_geos_version, geos_capi_version_string\n"
     ]
    }
   ],
   "source": [
    "import pandas as pd\n",
    "import geopandas as gpd\n",
    "import colocation\n",
    "import utils"
   ]
  },
  {
   "cell_type": "code",
   "execution_count": 3,
   "metadata": {},
   "outputs": [],
   "source": [
    "data = pd.read_csv('../../data/Minneapolis_toy_Input.csv')"
   ]
  },
  {
   "cell_type": "code",
   "execution_count": 4,
   "metadata": {},
   "outputs": [
    {
     "data": {
      "text/html": [
       "<div>\n",
       "<style scoped>\n",
       "    .dataframe tbody tr th:only-of-type {\n",
       "        vertical-align: middle;\n",
       "    }\n",
       "\n",
       "    .dataframe tbody tr th {\n",
       "        vertical-align: top;\n",
       "    }\n",
       "\n",
       "    .dataframe thead th {\n",
       "        text-align: right;\n",
       "    }\n",
       "</style>\n",
       "<table border=\"1\" class=\"dataframe\">\n",
       "  <thead>\n",
       "    <tr style=\"text-align: right;\">\n",
       "      <th></th>\n",
       "      <th>safegraph_place_id</th>\n",
       "      <th>location_name</th>\n",
       "      <th>brands</th>\n",
       "      <th>top_category</th>\n",
       "      <th>sub_category</th>\n",
       "      <th>naics_code</th>\n",
       "      <th>latitude</th>\n",
       "      <th>longitude</th>\n",
       "      <th>city</th>\n",
       "      <th>region</th>\n",
       "    </tr>\n",
       "  </thead>\n",
       "  <tbody>\n",
       "    <tr>\n",
       "      <th>0</th>\n",
       "      <td>sg:80ed5aeaee334840be638459707fbdc3</td>\n",
       "      <td>Walker Art Center</td>\n",
       "      <td>NaN</td>\n",
       "      <td>Other Miscellaneous Store Retailers</td>\n",
       "      <td>Art Dealers</td>\n",
       "      <td>453920</td>\n",
       "      <td>44.967992</td>\n",
       "      <td>-93.328</td>\n",
       "      <td>Minneapolis</td>\n",
       "      <td>MN</td>\n",
       "    </tr>\n",
       "    <tr>\n",
       "      <th>1</th>\n",
       "      <td>sg:d468aec1a90a437185360b5c1b1d00df</td>\n",
       "      <td>Bauhaus Brew Labs</td>\n",
       "      <td>NaN</td>\n",
       "      <td>Beverage Manufacturing</td>\n",
       "      <td>Breweries</td>\n",
       "      <td>312120</td>\n",
       "      <td>44.965000</td>\n",
       "      <td>-93.321</td>\n",
       "      <td>Minneapolis</td>\n",
       "      <td>MN</td>\n",
       "    </tr>\n",
       "    <tr>\n",
       "      <th>2</th>\n",
       "      <td>sg:4e218fe6f98147d0bdc8a5a29aeb2de3</td>\n",
       "      <td>Kaufman Container</td>\n",
       "      <td>NaN</td>\n",
       "      <td>Waste Treatment and Disposal</td>\n",
       "      <td>Hazardous Waste Treatment and Disposal</td>\n",
       "      <td>562211</td>\n",
       "      <td>44.972690</td>\n",
       "      <td>-93.325</td>\n",
       "      <td>Minneapolis</td>\n",
       "      <td>MN</td>\n",
       "    </tr>\n",
       "    <tr>\n",
       "      <th>3</th>\n",
       "      <td>sg:8e2618fb0f0a42a6994941c74b047cbe</td>\n",
       "      <td>The Malt Shop</td>\n",
       "      <td>NaN</td>\n",
       "      <td>Restaurants and Other Eating Places</td>\n",
       "      <td>Snack and Nonalcoholic Beverage Bars</td>\n",
       "      <td>722515</td>\n",
       "      <td>44.970000</td>\n",
       "      <td>-93.328</td>\n",
       "      <td>Minneapolis</td>\n",
       "      <td>MN</td>\n",
       "    </tr>\n",
       "    <tr>\n",
       "      <th>4</th>\n",
       "      <td>sg:6fa2311c1d284014a560ec1cfd026ac6</td>\n",
       "      <td>Arete Wealth Strategists</td>\n",
       "      <td>NaN</td>\n",
       "      <td>Other Financial Investment Activities</td>\n",
       "      <td>Investment Advice</td>\n",
       "      <td>523930</td>\n",
       "      <td>44.977794</td>\n",
       "      <td>-93.210</td>\n",
       "      <td>Minneapolis</td>\n",
       "      <td>MN</td>\n",
       "    </tr>\n",
       "  </tbody>\n",
       "</table>\n",
       "</div>"
      ],
      "text/plain": [
       "                    safegraph_place_id             location_name brands  \\\n",
       "0  sg:80ed5aeaee334840be638459707fbdc3         Walker Art Center    NaN   \n",
       "1  sg:d468aec1a90a437185360b5c1b1d00df         Bauhaus Brew Labs    NaN   \n",
       "2  sg:4e218fe6f98147d0bdc8a5a29aeb2de3         Kaufman Container    NaN   \n",
       "3  sg:8e2618fb0f0a42a6994941c74b047cbe             The Malt Shop    NaN   \n",
       "4  sg:6fa2311c1d284014a560ec1cfd026ac6  Arete Wealth Strategists    NaN   \n",
       "\n",
       "                            top_category  \\\n",
       "0    Other Miscellaneous Store Retailers   \n",
       "1                 Beverage Manufacturing   \n",
       "2           Waste Treatment and Disposal   \n",
       "3    Restaurants and Other Eating Places   \n",
       "4  Other Financial Investment Activities   \n",
       "\n",
       "                             sub_category  naics_code   latitude  longitude  \\\n",
       "0                             Art Dealers      453920  44.967992    -93.328   \n",
       "1                               Breweries      312120  44.965000    -93.321   \n",
       "2  Hazardous Waste Treatment and Disposal      562211  44.972690    -93.325   \n",
       "3    Snack and Nonalcoholic Beverage Bars      722515  44.970000    -93.328   \n",
       "4                       Investment Advice      523930  44.977794    -93.210   \n",
       "\n",
       "          city region  \n",
       "0  Minneapolis     MN  \n",
       "1  Minneapolis     MN  \n",
       "2  Minneapolis     MN  \n",
       "3  Minneapolis     MN  \n",
       "4  Minneapolis     MN  "
      ]
     },
     "execution_count": 4,
     "metadata": {},
     "output_type": "execute_result"
    }
   ],
   "source": [
    "data.head(5)"
   ]
  },
  {
   "cell_type": "code",
   "execution_count": 5,
   "metadata": {},
   "outputs": [],
   "source": [
    "data['pos'] = gpd.points_from_xy(data.longitude, data.latitude)"
   ]
  },
  {
   "cell_type": "code",
   "execution_count": 6,
   "metadata": {},
   "outputs": [
    {
     "name": "stdout",
     "output_type": "stream",
     "text": [
      "|C1| = 9, |P1| = 9, |R1| = 0, Rows in T1 = 9, Elapsed Time: 0:00:00.008664\n",
      "|C2| = 36, |P2| = 9, |R2| = 18, Rows in T2 = 9, Elapsed Time: 0:00:00.204044\n",
      "|C3| = 5, |P3| = 5, |R3| = 15, Rows in T3 = 5, Elapsed Time: 0:00:00.371808\n"
     ]
    },
    {
     "data": {
      "image/png": "[encoded data removed]",
      "text/plain": [
       "<Figure size 3600x720 with 1 Axes>"
      ]
     },
     "metadata": {
      "needs_background": "light"
     },
     "output_type": "display_data"
    }
   ],
   "source": [
    "T,R = colocation.general(data, 'pos', 'top_category', 'safegraph_place_id', threshold=500, plot=True, out_plot='toy_out_plot', out_csv='toy_out_csv', shape_file='PolyMN/Polygon_MN.shp')"
   ]
  },
  {
   "cell_type": "code",
   "execution_count": 7,
   "metadata": {},
   "outputs": [
    {
     "name": "stdout",
     "output_type": "stream",
     "text": [
      "{Beverage Manufacturing, Other Miscellaneous Store Retailers} => Restaurants and Other Eating Places (1.0, 1.0)\n",
      "{Beverage Manufacturing, Restaurants and Other Eating Places} => Waste Treatment and Disposal (1.0, 1.0)\n",
      "{Beverage Manufacturing, Waste Treatment and Disposal} => Restaurants and Other Eating Places (1.0, 1.0)\n",
      "{Clothing Stores, Gasoline Stations} => Offices of Other Health Practitioners (1.0, 1.0)\n",
      "{Clothing Stores, Offices of Other Health Practitioners} => Gasoline Stations (1.0, 1.0)\n",
      "{Gasoline Stations, Offices of Other Health Practitioners} => Clothing Stores (1.0, 1.0)\n",
      "{Other Miscellaneous Store Retailers, Restaurants and Other Eating Places} => Waste Treatment and Disposal (1.0, 1.0)\n",
      "{Other Miscellaneous Store Retailers, Waste Treatment and Disposal} => Restaurants and Other Eating Places (1.0, 1.0)\n",
      "{Restaurants and Other Eating Places, Waste Treatment and Disposal} => Other Miscellaneous Store Retailers (1.0, 1.0)\n"
     ]
    }
   ],
   "source": [
    "out = {}\n",
    "for r in R:\n",
    "    if len(r.items) == 3:\n",
    "        out[r.antecedent] = r\n",
    "\n",
    "for r in sorted(out.keys()):\n",
    "    print(out[r])"
   ]
  },
  {
   "cell_type": "code",
   "execution_count": 8,
   "metadata": {},
   "outputs": [
    {
     "data": {
      "text/html": [
       "<div>\n",
       "<style scoped>\n",
       "    .dataframe tbody tr th:only-of-type {\n",
       "        vertical-align: middle;\n",
       "    }\n",
       "\n",
       "    .dataframe tbody tr th {\n",
       "        vertical-align: top;\n",
       "    }\n",
       "\n",
       "    .dataframe thead th {\n",
       "        text-align: right;\n",
       "    }\n",
       "</style>\n",
       "<table border=\"1\" class=\"dataframe\">\n",
       "  <thead>\n",
       "    <tr style=\"text-align: right;\">\n",
       "      <th></th>\n",
       "      <th>cat1</th>\n",
       "      <th>id1</th>\n",
       "      <th>cat2</th>\n",
       "      <th>id2</th>\n",
       "      <th>cat3</th>\n",
       "      <th>id3</th>\n",
       "      <th>pos3</th>\n",
       "    </tr>\n",
       "  </thead>\n",
       "  <tbody>\n",
       "    <tr>\n",
       "      <th>1</th>\n",
       "      <td>Beverage Manufacturing</td>\n",
       "      <td>sg:d468aec1a90a437185360b5c1b1d00df</td>\n",
       "      <td>Other Miscellaneous Store Retailers</td>\n",
       "      <td>sg:80ed5aeaee334840be638459707fbdc3</td>\n",
       "      <td>Restaurants and Other Eating Places</td>\n",
       "      <td>sg:8e2618fb0f0a42a6994941c74b047cbe</td>\n",
       "      <td>POINT (-93.328 44.970)</td>\n",
       "    </tr>\n",
       "    <tr>\n",
       "      <th>2</th>\n",
       "      <td>Beverage Manufacturing</td>\n",
       "      <td>sg:d468aec1a90a437185360b5c1b1d00df</td>\n",
       "      <td>Other Miscellaneous Store Retailers</td>\n",
       "      <td>sg:80ed5aeaee334840be638459707fbdc3</td>\n",
       "      <td>Waste Treatment and Disposal</td>\n",
       "      <td>sg:4e218fe6f98147d0bdc8a5a29aeb2de3</td>\n",
       "      <td>POINT (-93.325 44.973)</td>\n",
       "    </tr>\n",
       "    <tr>\n",
       "      <th>5</th>\n",
       "      <td>Beverage Manufacturing</td>\n",
       "      <td>sg:d468aec1a90a437185360b5c1b1d00df</td>\n",
       "      <td>Restaurants and Other Eating Places</td>\n",
       "      <td>sg:8e2618fb0f0a42a6994941c74b047cbe</td>\n",
       "      <td>Waste Treatment and Disposal</td>\n",
       "      <td>sg:4e218fe6f98147d0bdc8a5a29aeb2de3</td>\n",
       "      <td>POINT (-93.325 44.973)</td>\n",
       "    </tr>\n",
       "    <tr>\n",
       "      <th>10</th>\n",
       "      <td>Clothing Stores</td>\n",
       "      <td>sg:c15277b450de412fa40fedfc0e240732</td>\n",
       "      <td>Gasoline Stations</td>\n",
       "      <td>sg:deb9e9a6e10b48a1a7676ef8b5e98cf0</td>\n",
       "      <td>Offices of Other Health Practitioners</td>\n",
       "      <td>sg:555149b9b9ce4884a013083c10945892</td>\n",
       "      <td>POINT (-93.210 44.920)</td>\n",
       "    </tr>\n",
       "    <tr>\n",
       "      <th>15</th>\n",
       "      <td>Other Miscellaneous Store Retailers</td>\n",
       "      <td>sg:80ed5aeaee334840be638459707fbdc3</td>\n",
       "      <td>Restaurants and Other Eating Places</td>\n",
       "      <td>sg:8e2618fb0f0a42a6994941c74b047cbe</td>\n",
       "      <td>Waste Treatment and Disposal</td>\n",
       "      <td>sg:4e218fe6f98147d0bdc8a5a29aeb2de3</td>\n",
       "      <td>POINT (-93.325 44.973)</td>\n",
       "    </tr>\n",
       "  </tbody>\n",
       "</table>\n",
       "</div>"
      ],
      "text/plain": [
       "                                   cat1                                  id1  \\\n",
       "1                Beverage Manufacturing  sg:d468aec1a90a437185360b5c1b1d00df   \n",
       "2                Beverage Manufacturing  sg:d468aec1a90a437185360b5c1b1d00df   \n",
       "5                Beverage Manufacturing  sg:d468aec1a90a437185360b5c1b1d00df   \n",
       "10                      Clothing Stores  sg:c15277b450de412fa40fedfc0e240732   \n",
       "15  Other Miscellaneous Store Retailers  sg:80ed5aeaee334840be638459707fbdc3   \n",
       "\n",
       "                                   cat2                                  id2  \\\n",
       "1   Other Miscellaneous Store Retailers  sg:80ed5aeaee334840be638459707fbdc3   \n",
       "2   Other Miscellaneous Store Retailers  sg:80ed5aeaee334840be638459707fbdc3   \n",
       "5   Restaurants and Other Eating Places  sg:8e2618fb0f0a42a6994941c74b047cbe   \n",
       "10                    Gasoline Stations  sg:deb9e9a6e10b48a1a7676ef8b5e98cf0   \n",
       "15  Restaurants and Other Eating Places  sg:8e2618fb0f0a42a6994941c74b047cbe   \n",
       "\n",
       "                                     cat3  \\\n",
       "1     Restaurants and Other Eating Places   \n",
       "2            Waste Treatment and Disposal   \n",
       "5            Waste Treatment and Disposal   \n",
       "10  Offices of Other Health Practitioners   \n",
       "15           Waste Treatment and Disposal   \n",
       "\n",
       "                                    id3                    pos3  \n",
       "1   sg:8e2618fb0f0a42a6994941c74b047cbe  POINT (-93.328 44.970)  \n",
       "2   sg:4e218fe6f98147d0bdc8a5a29aeb2de3  POINT (-93.325 44.973)  \n",
       "5   sg:4e218fe6f98147d0bdc8a5a29aeb2de3  POINT (-93.325 44.973)  \n",
       "10  sg:555149b9b9ce4884a013083c10945892  POINT (-93.210 44.920)  \n",
       "15  sg:4e218fe6f98147d0bdc8a5a29aeb2de3  POINT (-93.325 44.973)  "
      ]
     },
     "execution_count": 8,
     "metadata": {},
     "output_type": "execute_result"
    }
   ],
   "source": [
    "T[-1]"
   ]
  }
 ],
 "metadata": {
  "interpreter": {
   "hash": "fd46340810f1a67aac0b28105dad28574f524481e11927df742d256f90f9f72f"
  },
  "kernelspec": {
   "display_name": "Python 3.7.13 ('colocationv2')",
   "language": "python",
   "name": "python3"
  },
  "language_info": {
   "codemirror_mode": {
    "name": "ipython",
    "version": 3
   },
   "file_extension": ".py",
   "mimetype": "text/x-python",
   "name": "python",
   "nbconvert_exporter": "python",
   "pygments_lexer": "ipython3",
   "version": "3.7.13"
  },
  "orig_nbformat": 4
 },
 "nbformat": 4,
 "nbformat_minor": 2
}
