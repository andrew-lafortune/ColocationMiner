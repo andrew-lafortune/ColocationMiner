{
 "cells": [
  {
   "cell_type": "code",
   "execution_count": 1,
   "metadata": {},
   "outputs": [
    {
     "name": "stderr",
     "output_type": "stream",
     "text": [
      "/home/andrew/anaconda3/envs/colocationv2/lib/python3.7/site-packages/geopandas/_compat.py:115: UserWarning: The Shapely GEOS version (3.10.2-CAPI-1.16.0) is incompatible with the GEOS version PyGEOS was compiled with (3.10.1-CAPI-1.16.0). Conversions between both will be slow.\n",
      "  shapely_geos_version, geos_capi_version_string\n"
     ]
    }
   ],
   "source": [
    "import pandas as pd\n",
    "import geopandas as gpd\n",
    "from general_colocation.colocation import general\n",
    "from general_colocation import utils\n",
    "import matplotlib.pyplot as plt"
   ]
  },
  {
   "cell_type": "code",
   "execution_count": 2,
   "metadata": {},
   "outputs": [
    {
     "name": "stdout",
     "output_type": "stream",
     "text": [
      "|C1| = 4, |P1| = 4, |R1| = 0, Rows in T1 = 6, Elapsed Time: 0:00:00.004669\n",
      "|C2| = 6, |P2| = 3, |R2| = 6, Rows in T2 = 7, Elapsed Time: 0:00:00.034848\n",
      "|C3| = 1, |P3| = 1, |R3| = 3, Rows in T3 = 2, Elapsed Time: 0:00:00.050626\n"
     ]
    }
   ],
   "source": [
    "data = pd.read_csv('../../data/toy_data.txt')\n",
    "data['pos'] = gpd.points_from_xy(data.x,data.y)\n",
    "\n",
    "T,R = general(data, 'pos','class','id',relation='unit',threshold=2.3)"
   ]
  },
  {
   "cell_type": "code",
   "execution_count": 20,
   "metadata": {},
   "outputs": [
    {
     "data": {
      "text/html": [
       "<div>\n",
       "<style scoped>\n",
       "    .dataframe tbody tr th:only-of-type {\n",
       "        vertical-align: middle;\n",
       "    }\n",
       "\n",
       "    .dataframe tbody tr th {\n",
       "        vertical-align: top;\n",
       "    }\n",
       "\n",
       "    .dataframe thead th {\n",
       "        text-align: right;\n",
       "    }\n",
       "</style>\n",
       "<table border=\"1\" class=\"dataframe\">\n",
       "  <thead>\n",
       "    <tr style=\"text-align: right;\">\n",
       "      <th></th>\n",
       "      <th>cat1</th>\n",
       "      <th>id1</th>\n",
       "      <th>pos1</th>\n",
       "    </tr>\n",
       "  </thead>\n",
       "  <tbody>\n",
       "    <tr>\n",
       "      <th>4</th>\n",
       "      <td>dotted_sq</td>\n",
       "      <td>1ds</td>\n",
       "      <td>POINT (4.00000 5.00000)</td>\n",
       "    </tr>\n",
       "    <tr>\n",
       "      <th>5</th>\n",
       "      <td>dotted_sq</td>\n",
       "      <td>2ds</td>\n",
       "      <td>POINT (6.00000 1.00000)</td>\n",
       "    </tr>\n",
       "    <tr>\n",
       "      <th>1</th>\n",
       "      <td>empty_ci</td>\n",
       "      <td>1ec</td>\n",
       "      <td>POINT (2.00000 1.00000)</td>\n",
       "    </tr>\n",
       "    <tr>\n",
       "      <th>2</th>\n",
       "      <td>empty_ci</td>\n",
       "      <td>2ec</td>\n",
       "      <td>POINT (2.00000 5.00000)</td>\n",
       "    </tr>\n",
       "    <tr>\n",
       "      <th>3</th>\n",
       "      <td>solid_ci</td>\n",
       "      <td>1sc</td>\n",
       "      <td>POINT (3.00000 3.00000)</td>\n",
       "    </tr>\n",
       "    <tr>\n",
       "      <th>0</th>\n",
       "      <td>solid_sq</td>\n",
       "      <td>1ss</td>\n",
       "      <td>POINT (1.00000 3.00000)</td>\n",
       "    </tr>\n",
       "  </tbody>\n",
       "</table>\n",
       "</div>"
      ],
      "text/plain": [
       "        cat1  id1                     pos1\n",
       "4  dotted_sq  1ds  POINT (4.00000 5.00000)\n",
       "5  dotted_sq  2ds  POINT (6.00000 1.00000)\n",
       "1   empty_ci  1ec  POINT (2.00000 1.00000)\n",
       "2   empty_ci  2ec  POINT (2.00000 5.00000)\n",
       "3   solid_ci  1sc  POINT (3.00000 3.00000)\n",
       "0   solid_sq  1ss  POINT (1.00000 3.00000)"
      ]
     },
     "execution_count": 20,
     "metadata": {},
     "output_type": "execute_result"
    }
   ],
   "source": [
    "T[0]"
   ]
  },
  {
   "cell_type": "code",
   "execution_count": 3,
   "metadata": {},
   "outputs": [
    {
     "data": {
      "text/html": [
       "<div>\n",
       "<style scoped>\n",
       "    .dataframe tbody tr th:only-of-type {\n",
       "        vertical-align: middle;\n",
       "    }\n",
       "\n",
       "    .dataframe tbody tr th {\n",
       "        vertical-align: top;\n",
       "    }\n",
       "\n",
       "    .dataframe thead th {\n",
       "        text-align: right;\n",
       "    }\n",
       "</style>\n",
       "<table border=\"1\" class=\"dataframe\">\n",
       "  <thead>\n",
       "    <tr style=\"text-align: right;\">\n",
       "      <th></th>\n",
       "      <th>cat1</th>\n",
       "      <th>id1</th>\n",
       "      <th>cat2</th>\n",
       "      <th>id2</th>\n",
       "      <th>cat3</th>\n",
       "      <th>id3</th>\n",
       "      <th>pos3</th>\n",
       "    </tr>\n",
       "  </thead>\n",
       "  <tbody>\n",
       "    <tr>\n",
       "      <th>1</th>\n",
       "      <td>empty_ci</td>\n",
       "      <td>1ec</td>\n",
       "      <td>solid_ci</td>\n",
       "      <td>1sc</td>\n",
       "      <td>solid_sq</td>\n",
       "      <td>1ss</td>\n",
       "      <td>POINT (1.00000 3.00000)</td>\n",
       "    </tr>\n",
       "    <tr>\n",
       "      <th>5</th>\n",
       "      <td>empty_ci</td>\n",
       "      <td>2ec</td>\n",
       "      <td>solid_ci</td>\n",
       "      <td>1sc</td>\n",
       "      <td>solid_sq</td>\n",
       "      <td>1ss</td>\n",
       "      <td>POINT (1.00000 3.00000)</td>\n",
       "    </tr>\n",
       "  </tbody>\n",
       "</table>\n",
       "</div>"
      ],
      "text/plain": [
       "       cat1  id1      cat2  id2      cat3  id3                     pos3\n",
       "1  empty_ci  1ec  solid_ci  1sc  solid_sq  1ss  POINT (1.00000 3.00000)\n",
       "5  empty_ci  2ec  solid_ci  1sc  solid_sq  1ss  POINT (1.00000 3.00000)"
      ]
     },
     "execution_count": 3,
     "metadata": {},
     "output_type": "execute_result"
    }
   ],
   "source": [
    "T[-1]"
   ]
  },
  {
   "cell_type": "code",
   "execution_count": 22,
   "metadata": {},
   "outputs": [
    {
     "data": {
      "image/png": "[encoded data removed]",
      "text/plain": [
       "<Figure size 3600x720 with 1 Axes>"
      ]
     },
     "metadata": {
      "needs_background": "light"
     },
     "output_type": "display_data"
    }
   ],
   "source": [
    "plt = utils.plot_table_instance(gpd.GeoDataFrame(data,geometry='pos'), T,'class','id', None, None, 1)\n",
    "plt.xlim(0, 7)\n",
    "plt.ylim(0,6)\n",
    "plt.savefig('../../readme_figs/k1.png',bbox_inches='tight')\n",
    "plt.show()"
   ]
  },
  {
   "cell_type": "code",
   "execution_count": 24,
   "metadata": {},
   "outputs": [
    {
     "data": {
      "image/png": "[encoded data removed]",
      "text/plain": [
       "<Figure size 3600x720 with 1 Axes>"
      ]
     },
     "metadata": {
      "needs_background": "light"
     },
     "output_type": "display_data"
    }
   ],
   "source": [
    "plt = utils.plot_table_instance(gpd.GeoDataFrame(data,geometry='pos'), T,'class','id', None, None, 3)\n",
    "plt.xlim(0, 7)\n",
    "plt.ylim(0,6)\n",
    "plt.savefig('../../readme_figs/k3.png',bbox_inches='tight')\n",
    "plt.show()"
   ]
  },
  {
   "cell_type": "code",
   "execution_count": 6,
   "metadata": {},
   "outputs": [
    {
     "name": "stdout",
     "output_type": "stream",
     "text": [
      "{<general_colocation.classes.Rule object at 0x7ff562fa5650>, <general_colocation.classes.Rule object at 0x7ff56363a290>, <general_colocation.classes.Rule object at 0x7ff598badc90>, <general_colocation.classes.Rule object at 0x7ff563083090>, <general_colocation.classes.Rule object at 0x7ff56308b710>, <general_colocation.classes.Rule object at 0x7ff562c29d10>, <general_colocation.classes.Rule object at 0x7ff563068390>, <general_colocation.classes.Rule object at 0x7ff563065bd0>, <general_colocation.classes.Rule object at 0x7ff56305d9d0>}\n"
     ]
    }
   ],
   "source": [
    "print(R)"
   ]
  }
 ],
 "metadata": {
  "interpreter": {
   "hash": "fd46340810f1a67aac0b28105dad28574f524481e11927df742d256f90f9f72f"
  },
  "kernelspec": {
   "display_name": "Python 3.7.13 ('colocationv2')",
   "language": "python",
   "name": "python3"
  },
  "language_info": {
   "codemirror_mode": {
    "name": "ipython",
    "version": 3
   },
   "file_extension": ".py",
   "mimetype": "text/x-python",
   "name": "python",
   "nbconvert_exporter": "python",
   "pygments_lexer": "ipython3",
   "version": "3.7.13"
  },
  "orig_nbformat": 4
 },
 "nbformat": 4,
 "nbformat_minor": 2
}
